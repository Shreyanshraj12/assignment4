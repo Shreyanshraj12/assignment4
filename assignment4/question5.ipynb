{
 "cells": [
  {
   "cell_type": "code",
   "execution_count": 1,
   "metadata": {},
   "outputs": [
    {
     "name": "stdout",
     "output_type": "stream",
     "text": [
      "2\n"
     ]
    }
   ],
   "source": [
    "def arrange_coins(n):\n",
    "    complete_rows = 0\n",
    "    total_coins = 0\n",
    "    row = 1\n",
    "\n",
    "    while total_coins + row <= n:\n",
    "        complete_rows += 1\n",
    "        total_coins += row\n",
    "        row += 1\n",
    "\n",
    "    return complete_rows\n",
    "n = 5\n",
    "\n",
    "complete_rows = arrange_coins(n)\n",
    "print(complete_rows)  "
   ]
  }
 ],
 "metadata": {
  "kernelspec": {
   "display_name": "Python 3",
   "language": "python",
   "name": "python3"
  },
  "language_info": {
   "codemirror_mode": {
    "name": "ipython",
    "version": 3
   },
   "file_extension": ".py",
   "mimetype": "text/x-python",
   "name": "python",
   "nbconvert_exporter": "python",
   "pygments_lexer": "ipython3",
   "version": "3.11.1"
  },
  "orig_nbformat": 4
 },
 "nbformat": 4,
 "nbformat_minor": 2
}
